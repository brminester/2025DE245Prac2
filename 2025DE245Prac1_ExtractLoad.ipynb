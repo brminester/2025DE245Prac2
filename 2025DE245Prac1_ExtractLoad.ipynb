{
  "nbformat": 4,
  "nbformat_minor": 0,
  "metadata": {
    "colab": {
      "provenance": []
    },
    "kernelspec": {
      "name": "python3",
      "display_name": "Python 3"
    },
    "language_info": {
      "name": "python"
    }
  },
  "cells": [
    {
      "cell_type": "markdown",
      "source": [
        "# Introduction to Python for Data Engineering\n",
        "\n",
        "This notebook demonstrates how to read data from a public API, process it to create useful information, and store the result in an SQLite database.\n",
        "\n",
        "It assumes you have read [this article](https://www.startdataengineering.com/post/python-for-de/#extract--load-read-and-write-data-to-any-system).\n",
        "\n",
        "**Acknowledgment**: Parts of this notebook were developed with the assistance of ChatGPT, an AI language model by OpenAI, to support instructional design and coding tasks related to data engineering concepts."
      ],
      "metadata": {
        "id": "Fok6QWp9znpg"
      }
    },
    {
      "cell_type": "code",
      "execution_count": 1,
      "metadata": {
        "colab": {
          "base_uri": "https://localhost:8080/"
        },
        "id": "vpIOn2KKzVhs",
        "outputId": "aec48a5c-4e32-492b-f7db-ee3db13943ab"
      },
      "outputs": [
        {
          "output_type": "stream",
          "name": "stdout",
          "text": [
            "Requirement already satisfied: requests in /usr/local/lib/python3.11/dist-packages (2.32.3)\n",
            "Requirement already satisfied: charset-normalizer<4,>=2 in /usr/local/lib/python3.11/dist-packages (from requests) (3.4.2)\n",
            "Requirement already satisfied: idna<4,>=2.5 in /usr/local/lib/python3.11/dist-packages (from requests) (3.10)\n",
            "Requirement already satisfied: urllib3<3,>=1.21.1 in /usr/local/lib/python3.11/dist-packages (from requests) (2.5.0)\n",
            "Requirement already satisfied: certifi>=2017.4.17 in /usr/local/lib/python3.11/dist-packages (from requests) (2025.8.3)\n"
          ]
        }
      ],
      "source": [
        "# Install required packages\n",
        "!pip install requests"
      ]
    },
    {
      "cell_type": "code",
      "source": [
        "# Import libraries\n",
        "import requests\n",
        "import sqlite3\n",
        "from datetime import datetime"
      ],
      "metadata": {
        "id": "o2zpVKtTz-8k"
      },
      "execution_count": 3,
      "outputs": []
    },
    {
      "cell_type": "code",
      "source": [
        "# Read data from CoinGecko API\n",
        "url = \"https://api.coingecko.com/api/v3/simple/price?ids=bitcoin&vs_currencies=usd\"\n",
        "response = requests.get(url)\n",
        "data = response.json()\n",
        "\n",
        "data\n"
      ],
      "metadata": {
        "colab": {
          "base_uri": "https://localhost:8080/"
        },
        "id": "lu4NR0Rf0LKn",
        "outputId": "8a0a81ef-9c60-48d5-e4e8-437010d5b30b"
      },
      "execution_count": 4,
      "outputs": [
        {
          "output_type": "execute_result",
          "data": {
            "text/plain": [
              "{'bitcoin': {'usd': 120016}}"
            ]
          },
          "metadata": {},
          "execution_count": 4
        }
      ]
    },
    {
      "cell_type": "markdown",
      "source": [
        "We will extract the Bitcoin price in USD and convert it to ZAR using an estimated exchange rate.\n",
        "This is an example of turning raw data into useful **information**."
      ],
      "metadata": {
        "id": "6-vfkALo0P9Q"
      }
    },
    {
      "cell_type": "code",
      "source": [
        "# Function to convert USD to ZAR\n",
        "def convert_usd_to_zar(usd_amount, rate=18.5):\n",
        "    return round(usd_amount * rate, 2)"
      ],
      "metadata": {
        "id": "60EpkZEO0V0d"
      },
      "execution_count": 5,
      "outputs": []
    },
    {
      "cell_type": "code",
      "source": [
        "# Extract USD price and apply transformation\n",
        "usd_price = data[\"bitcoin\"][\"usd\"]\n",
        "zar_price = convert_usd_to_zar(usd_price)\n",
        "timestamp = datetime.now().isoformat()\n",
        "\n",
        "print(f\"Bitcoin price in USD: {usd_price}\")\n",
        "print(f\"Estimated price in ZAR: {zar_price}\")\n"
      ],
      "metadata": {
        "colab": {
          "base_uri": "https://localhost:8080/"
        },
        "id": "ecC-Yy-E0a_t",
        "outputId": "881a68ed-9d72-4948-eed0-ee5dcc22127a"
      },
      "execution_count": 6,
      "outputs": [
        {
          "output_type": "stream",
          "name": "stdout",
          "text": [
            "Bitcoin price in USD: 120016\n",
            "Estimated price in ZAR: 2220296.0\n"
          ]
        }
      ]
    },
    {
      "cell_type": "code",
      "source": [
        "# Connect to SQLite database (or create it)\n",
        "conn = sqlite3.connect(\"bitcoin_prices.db\")\n",
        "cursor = conn.cursor()\n",
        "\n",
        "# Create table if it doesn't exist\n",
        "cursor.execute('''\n",
        "CREATE TABLE IF NOT EXISTS prices (\n",
        "    -- These are SQL comments. Similarly /* ... */ for multi-line comments\n",
        "    -- If timestamp should be unique (e.g., one price per moment):\n",
        "    -- timestamp TEXT PRIMARY KEY,\n",
        "    -- If multiple prices per second are expected, or if you want a simple unique ID:\n",
        "    -- id INTEGER PRIMARY KEY AUTOINCREMENT,\n",
        "    timestamp TEXT,\n",
        "    usd REAL,\n",
        "    zar REAL\n",
        ")\n",
        "''')\n",
        "\n",
        "# Insert the new row\n",
        "cursor.execute(\"INSERT INTO prices VALUES (?, ?, ?)\", (timestamp, usd_price, zar_price))\n",
        "conn.commit()\n",
        "conn.close()\n"
      ],
      "metadata": {
        "id": "wpimWgg00lgl"
      },
      "execution_count": 7,
      "outputs": []
    },
    {
      "cell_type": "code",
      "source": [
        "# Check if data was successfully written\n",
        "conn = sqlite3.connect(\"bitcoin_prices.db\")\n",
        "cursor = conn.cursor()\n",
        "\n",
        "# Show the last 5 rows\n",
        "rows = cursor.execute(\"SELECT * FROM prices ORDER BY timestamp DESC LIMIT 5\").fetchall()\n",
        "for row in rows:\n",
        "    print(row)\n",
        "\n",
        "conn.close()\n"
      ],
      "metadata": {
        "colab": {
          "base_uri": "https://localhost:8080/"
        },
        "id": "URSO8F6x0q1q",
        "outputId": "46193305-a6c3-43b0-b94b-7c00107263fb"
      },
      "execution_count": 8,
      "outputs": [
        {
          "output_type": "stream",
          "name": "stdout",
          "text": [
            "('2025-08-13T09:26:37.741911', 120016.0, 2220296.0)\n"
          ]
        }
      ]
    }
  ]
}