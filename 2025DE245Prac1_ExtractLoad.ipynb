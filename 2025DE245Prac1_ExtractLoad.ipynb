# Introduction to Python for Data Engineering
# This version converts Bitcoin prices to any target currency for a data engineering assignment

# Install required packages
!pip install requests

# Import libraries
import requests
import sqlite3
from datetime import datetime

# Ask user for target currency (e.g., 'zar', 'eur', 'gbp')
target_currency = input("Enter the target currency code (e.g., 'zar', 'eur'): ").lower()

# Read data from CoinGecko API for USD and target currency
url = f"https://api.coingecko.com/api/v3/simple/price?ids=bitcoin&vs_currencies=usd,{target_currency}"
response = requests.get(url)
data = response.json()

usd_price = data["bitcoin"]["usd"]
if target_currency in data["bitcoin"]:
    target_price = data["bitcoin"][target_currency]
else:
    print(f"Currency '{target_currency}' not found. Defaulting to 0.")
    target_price = 0

timestamp = datetime.now().isoformat()

print(f"Bitcoin price in USD: {usd_price}")
print(f"Bitcoin price in {target_currency.upper()}: {target_price}")

# Connect to SQLite database (or create it)
conn = sqlite3.connect("bitcoin_prices.db")
cursor = conn.cursor()

# Create table if it doesn't exist
cursor.execute('''
CREATE TABLE IF NOT EXISTS prices (
    timestamp TEXT PRIMARY KEY,
    usd REAL,
    currency TEXT,
    converted REAL
)
''')

# Insert the new row
cursor.execute("INSERT INTO prices VALUES (?, ?, ?, ?)", (timestamp, usd_price, target_currency.upper(), target_price))
conn.commit()
conn.close()

# Check if data was successfully written
conn = sqlite3.connect("bitcoin_prices.db")
cursor = conn.cursor()

# Show the last 5 rows
rows = cursor.execute("SELECT * FROM prices ORDER BY timestamp DESC LIMIT 5").fetchall()
for row in rows:
    print(row)

conn.close()
